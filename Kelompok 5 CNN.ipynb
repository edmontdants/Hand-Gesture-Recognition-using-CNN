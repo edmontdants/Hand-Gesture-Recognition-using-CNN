{
 "cells": [
  {
   "cell_type": "code",
   "execution_count": 30,
   "metadata": {},
   "outputs": [],
   "source": [
    "from keras.models import Sequential\n",
    "from keras.layers.convolutional import Conv2D\n",
    "from keras.layers.convolutional import MaxPooling2D\n",
    "from keras.layers.core import Activation\n",
    "from keras.layers.core import Flatten\n",
    "from keras.layers.core import Dense\n",
    "from keras.optimizers import Adam\n",
    "from sklearn.preprocessing import LabelBinarizer\n",
    "from sklearn.model_selection import train_test_split\n",
    "from sklearn.metrics import classification_report\n",
    "from PIL import Image\n",
    "from imutils import paths\n",
    "import numpy as np\n",
    "import argparse\n",
    "import os"
   ]
  },
  {
   "cell_type": "code",
   "execution_count": 31,
   "metadata": {},
   "outputs": [
    {
     "name": "stdout",
     "output_type": "stream",
     "text": [
      "[INFO] loading images...\n"
     ]
    }
   ],
   "source": [
    "print(\"[INFO] loading images...\")\n",
    "#baru = nama datasets\n",
    "imagePaths = paths.list_images('baru')\n",
    "data = []\n",
    "labels = []\n",
    " \n",
    "# loop over our input images\n",
    "for imagePath in imagePaths:\n",
    "\t# load the input image from disk, resize it to 32x32 pixels, scale\n",
    "\t# the pixel intensities to the range [0, 1], and then update our\n",
    "\t# images list\n",
    "\timage = Image.open(imagePath)\n",
    "    #normalisasi\n",
    "\timage = np.array(image.resize((66, 66))) / 255.0\n",
    "\tdata.append(image)\n",
    " \n",
    "\t# extract the class label from the file path and update the\n",
    "\t# labels list\n",
    "\tlabel = imagePath.split(os.path.sep)[-2]\n",
    "\tlabels.append(label)"
   ]
  },
  {
   "cell_type": "code",
   "execution_count": 32,
   "metadata": {},
   "outputs": [],
   "source": [
    "# encode the labels, converting them from strings to integers\n",
    "lb = LabelBinarizer()\n",
    "labels = lb.fit_transform(labels)\n",
    " \n",
    "# perform a training and testing split, using 75% of the data for\n",
    "# training and 25% for evaluation\n",
    "(trainX, testX, trainY, testY) = train_test_split(np.array(data),\n",
    "\tnp.array(labels), test_size=0.25)"
   ]
  },
  {
   "cell_type": "code",
   "execution_count": 33,
   "metadata": {},
   "outputs": [],
   "source": [
    "# define our Convolutional Neural Network architecture\n",
    "# pengenalan ciri ( ekstraksi fitur dengan melakukan konvolusi input terhadap filter)\n",
    "model = Sequential()\n",
    "#input_shape=(66,66, 3) = ukuran gambar\n",
    "model.add(Conv2D(8, (3, 3), padding=\"same\", input_shape=(66,66, 3)))\n",
    "model.add(Activation(\"relu\"))\n",
    "model.add(MaxPooling2D(pool_size=(2, 2), strides=(2, 2)))\n",
    "model.add(Conv2D(16, (3, 3), padding=\"same\"))\n",
    "model.add(Activation(\"relu\"))\n",
    "model.add(MaxPooling2D(pool_size=(2, 2), strides=(2, 2)))\n",
    "model.add(Conv2D(32, (3, 3), padding=\"same\"))\n",
    "model.add(Activation(\"relu\"))\n",
    "model.add(MaxPooling2D(pool_size=(2, 2), strides=(2, 2)))\n",
    "#flatten = di jadikan 1 dimensi\n",
    "model.add(Flatten())\n",
    "#Dense = banyak kelas\n",
    "model.add(Dense(5))\n",
    "model.add(Activation(\"softmax\"))"
   ]
  },
  {
   "cell_type": "code",
   "execution_count": 34,
   "metadata": {},
   "outputs": [
    {
     "name": "stdout",
     "output_type": "stream",
     "text": [
      "[INFO] training network...\n",
      "Train on 187 samples, validate on 63 samples\n",
      "Epoch 1/50\n",
      "187/187 [==============================] - 1s 7ms/step - loss: 1.6090 - accuracy: 0.1925 - val_loss: 1.5873 - val_accuracy: 0.2698\n",
      "Epoch 2/50\n",
      "187/187 [==============================] - 1s 4ms/step - loss: 1.5580 - accuracy: 0.4332 - val_loss: 1.5468 - val_accuracy: 0.4286\n",
      "Epoch 3/50\n",
      "187/187 [==============================] - 1s 4ms/step - loss: 1.4947 - accuracy: 0.4599 - val_loss: 1.4611 - val_accuracy: 0.3651\n",
      "Epoch 4/50\n",
      "187/187 [==============================] - 1s 4ms/step - loss: 1.3850 - accuracy: 0.5080 - val_loss: 1.3029 - val_accuracy: 0.7302\n",
      "Epoch 5/50\n",
      "187/187 [==============================] - 1s 4ms/step - loss: 1.1992 - accuracy: 0.8289 - val_loss: 1.1339 - val_accuracy: 0.7143\n",
      "Epoch 6/50\n",
      "187/187 [==============================] - 1s 4ms/step - loss: 0.9338 - accuracy: 0.8449 - val_loss: 0.8653 - val_accuracy: 0.8254\n",
      "Epoch 7/50\n",
      "187/187 [==============================] - 1s 4ms/step - loss: 0.6710 - accuracy: 0.8449 - val_loss: 0.6150 - val_accuracy: 0.8413\n",
      "Epoch 8/50\n",
      "187/187 [==============================] - 1s 4ms/step - loss: 0.4828 - accuracy: 0.9091 - val_loss: 0.5757 - val_accuracy: 0.8095\n",
      "Epoch 9/50\n",
      "187/187 [==============================] - 1s 4ms/step - loss: 0.4188 - accuracy: 0.8770 - val_loss: 0.4707 - val_accuracy: 0.8095\n",
      "Epoch 10/50\n",
      "187/187 [==============================] - 1s 4ms/step - loss: 0.3269 - accuracy: 0.8824 - val_loss: 0.3473 - val_accuracy: 0.8889\n",
      "Epoch 11/50\n",
      "187/187 [==============================] - 1s 5ms/step - loss: 0.2627 - accuracy: 0.9037 - val_loss: 0.2942 - val_accuracy: 0.8571\n",
      "Epoch 12/50\n",
      "187/187 [==============================] - 1s 5ms/step - loss: 0.1885 - accuracy: 0.9412 - val_loss: 0.2690 - val_accuracy: 0.9048\n",
      "Epoch 13/50\n",
      "187/187 [==============================] - 1s 5ms/step - loss: 0.1961 - accuracy: 0.9412 - val_loss: 0.2582 - val_accuracy: 0.8889\n",
      "Epoch 14/50\n",
      "187/187 [==============================] - 1s 5ms/step - loss: 0.1779 - accuracy: 0.9519 - val_loss: 0.2767 - val_accuracy: 0.9048\n",
      "Epoch 15/50\n",
      "187/187 [==============================] - 1s 4ms/step - loss: 0.1331 - accuracy: 0.9679 - val_loss: 0.1710 - val_accuracy: 0.9206\n",
      "Epoch 16/50\n",
      "187/187 [==============================] - 1s 4ms/step - loss: 0.1168 - accuracy: 0.9679 - val_loss: 0.3528 - val_accuracy: 0.8571\n",
      "Epoch 17/50\n",
      "187/187 [==============================] - 1s 3ms/step - loss: 0.0964 - accuracy: 0.9786 - val_loss: 0.1066 - val_accuracy: 0.9841\n",
      "Epoch 18/50\n",
      "187/187 [==============================] - 1s 4ms/step - loss: 0.0833 - accuracy: 0.9786 - val_loss: 0.2599 - val_accuracy: 0.8730\n",
      "Epoch 19/50\n",
      "187/187 [==============================] - 1s 4ms/step - loss: 0.0695 - accuracy: 0.9893 - val_loss: 0.1452 - val_accuracy: 0.9365\n",
      "Epoch 20/50\n",
      "187/187 [==============================] - 1s 4ms/step - loss: 0.0573 - accuracy: 0.9947 - val_loss: 0.1013 - val_accuracy: 0.9524\n",
      "Epoch 21/50\n",
      "187/187 [==============================] - 1s 4ms/step - loss: 0.0429 - accuracy: 1.0000 - val_loss: 0.1880 - val_accuracy: 0.9048\n",
      "Epoch 22/50\n",
      "187/187 [==============================] - 1s 4ms/step - loss: 0.0374 - accuracy: 0.9947 - val_loss: 0.1007 - val_accuracy: 0.9683\n",
      "Epoch 23/50\n",
      "187/187 [==============================] - 1s 4ms/step - loss: 0.0345 - accuracy: 1.0000 - val_loss: 0.0796 - val_accuracy: 0.9683\n",
      "Epoch 24/50\n",
      "187/187 [==============================] - 1s 4ms/step - loss: 0.0270 - accuracy: 1.0000 - val_loss: 0.1562 - val_accuracy: 0.9048\n",
      "Epoch 25/50\n",
      "187/187 [==============================] - 1s 4ms/step - loss: 0.0206 - accuracy: 1.0000 - val_loss: 0.0917 - val_accuracy: 0.9524\n",
      "Epoch 26/50\n",
      "187/187 [==============================] - 1s 4ms/step - loss: 0.0179 - accuracy: 1.0000 - val_loss: 0.0700 - val_accuracy: 0.9841\n",
      "Epoch 27/50\n",
      "187/187 [==============================] - 1s 4ms/step - loss: 0.0146 - accuracy: 1.0000 - val_loss: 0.0865 - val_accuracy: 0.9365\n",
      "Epoch 28/50\n",
      "187/187 [==============================] - 1s 3ms/step - loss: 0.0142 - accuracy: 1.0000 - val_loss: 0.1055 - val_accuracy: 0.9365\n",
      "Epoch 29/50\n",
      "187/187 [==============================] - 1s 3ms/step - loss: 0.0114 - accuracy: 1.0000 - val_loss: 0.0545 - val_accuracy: 1.0000\n",
      "Epoch 30/50\n",
      "187/187 [==============================] - 1s 4ms/step - loss: 0.0106 - accuracy: 1.0000 - val_loss: 0.0687 - val_accuracy: 0.9683\n",
      "Epoch 31/50\n",
      "187/187 [==============================] - 1s 3ms/step - loss: 0.0101 - accuracy: 1.0000 - val_loss: 0.0798 - val_accuracy: 0.9683\n",
      "Epoch 32/50\n",
      "187/187 [==============================] - 1s 4ms/step - loss: 0.0084 - accuracy: 1.0000 - val_loss: 0.0797 - val_accuracy: 0.9524\n",
      "Epoch 33/50\n",
      "187/187 [==============================] - 1s 4ms/step - loss: 0.0072 - accuracy: 1.0000 - val_loss: 0.0684 - val_accuracy: 0.9524\n",
      "Epoch 34/50\n",
      "187/187 [==============================] - 1s 4ms/step - loss: 0.0060 - accuracy: 1.0000 - val_loss: 0.0512 - val_accuracy: 1.0000\n",
      "Epoch 35/50\n",
      "187/187 [==============================] - 1s 4ms/step - loss: 0.0056 - accuracy: 1.0000 - val_loss: 0.0664 - val_accuracy: 0.9683\n",
      "Epoch 36/50\n",
      "187/187 [==============================] - 1s 4ms/step - loss: 0.0050 - accuracy: 1.0000 - val_loss: 0.0705 - val_accuracy: 0.9683\n",
      "Epoch 37/50\n",
      "187/187 [==============================] - 1s 4ms/step - loss: 0.0048 - accuracy: 1.0000 - val_loss: 0.0447 - val_accuracy: 1.0000\n",
      "Epoch 38/50\n",
      "187/187 [==============================] - 1s 4ms/step - loss: 0.0039 - accuracy: 1.0000 - val_loss: 0.0628 - val_accuracy: 0.9683\n",
      "Epoch 39/50\n",
      "187/187 [==============================] - 1s 4ms/step - loss: 0.0037 - accuracy: 1.0000 - val_loss: 0.0659 - val_accuracy: 0.9683\n",
      "Epoch 40/50\n",
      "187/187 [==============================] - 1s 3ms/step - loss: 0.0034 - accuracy: 1.0000 - val_loss: 0.0544 - val_accuracy: 0.9683\n",
      "Epoch 41/50\n",
      "187/187 [==============================] - 1s 4ms/step - loss: 0.0031 - accuracy: 1.0000 - val_loss: 0.0537 - val_accuracy: 0.9683\n",
      "Epoch 42/50\n",
      "187/187 [==============================] - 1s 4ms/step - loss: 0.0029 - accuracy: 1.0000 - val_loss: 0.0481 - val_accuracy: 0.9683\n",
      "Epoch 43/50\n",
      "187/187 [==============================] - 1s 3ms/step - loss: 0.0026 - accuracy: 1.0000 - val_loss: 0.0516 - val_accuracy: 0.9683\n",
      "Epoch 44/50\n",
      "187/187 [==============================] - 1s 3ms/step - loss: 0.0024 - accuracy: 1.0000 - val_loss: 0.0486 - val_accuracy: 0.9683\n",
      "Epoch 45/50\n",
      "187/187 [==============================] - 1s 4ms/step - loss: 0.0023 - accuracy: 1.0000 - val_loss: 0.0471 - val_accuracy: 0.9683\n",
      "Epoch 46/50\n",
      "187/187 [==============================] - 1s 3ms/step - loss: 0.0020 - accuracy: 1.0000 - val_loss: 0.0433 - val_accuracy: 0.9683\n",
      "Epoch 47/50\n",
      "187/187 [==============================] - 1s 4ms/step - loss: 0.0019 - accuracy: 1.0000 - val_loss: 0.0432 - val_accuracy: 0.9683\n",
      "Epoch 48/50\n",
      "187/187 [==============================] - 1s 4ms/step - loss: 0.0017 - accuracy: 1.0000 - val_loss: 0.0418 - val_accuracy: 0.9683\n",
      "Epoch 49/50\n",
      "187/187 [==============================] - 1s 4ms/step - loss: 0.0017 - accuracy: 1.0000 - val_loss: 0.0459 - val_accuracy: 0.9683\n",
      "Epoch 50/50\n",
      "187/187 [==============================] - 1s 4ms/step - loss: 0.0015 - accuracy: 1.0000 - val_loss: 0.0371 - val_accuracy: 0.9841\n",
      "[INFO] evaluating network...\n",
      "              precision    recall  f1-score   support\n",
      "\n",
      "           5       1.00      1.00      1.00         8\n",
      "           A       0.90      1.00      0.95         9\n",
      "           B       1.00      1.00      1.00        12\n",
      "           C       1.00      0.95      0.97        19\n",
      "       point       1.00      1.00      1.00        15\n",
      "\n",
      "    accuracy                           0.98        63\n",
      "   macro avg       0.98      0.99      0.98        63\n",
      "weighted avg       0.99      0.98      0.98        63\n",
      "\n"
     ]
    }
   ],
   "source": [
    "# train the model using the Adam optimizer\n",
    "print(\"[INFO] training network...\")\n",
    "opt = Adam(lr=1e-3, decay=1e-3 / 50)\n",
    "model.compile(loss=\"categorical_crossentropy\", optimizer=opt,\n",
    "\tmetrics=[\"accuracy\"])\n",
    "H = model.fit(trainX, trainY, validation_data=(testX, testY),\n",
    "\tepochs=50, batch_size=32)\n",
    " \n",
    "# evaluate the network\n",
    "print(\"[INFO] evaluating network...\")\n",
    "predictions = model.predict(testX, batch_size=32)\n",
    "print(classification_report(testY.argmax(axis=1),\n",
    "\tpredictions.argmax(axis=1), target_names=lb.classes_))"
   ]
  },
  {
   "cell_type": "code",
   "execution_count": 35,
   "metadata": {},
   "outputs": [],
   "source": [
    "import cv2\n",
    "import matplotlib.pyplot as plt\n",
    "image1 = '5-1.jpeg'"
   ]
  },
  {
   "cell_type": "code",
   "execution_count": 36,
   "metadata": {},
   "outputs": [
    {
     "data": {
      "image/png": "[encoded data removed]",
      "text/plain": [
       "<Figure size 432x288 with 1 Axes>"
      ]
     },
     "metadata": {
      "needs_background": "light"
     },
     "output_type": "display_data"
    }
   ],
   "source": [
    "img_array =cv2.imread(image1)\n",
    "plt.imshow(img_array)\n",
    "plt.show()"
   ]
  },
  {
   "cell_type": "code",
   "execution_count": 37,
   "metadata": {},
   "outputs": [
    {
     "data": {
      "image/png": "[encoded data removed]",
      "text/plain": [
       "<Figure size 432x288 with 1 Axes>"
      ]
     },
     "metadata": {
      "needs_background": "light"
     },
     "output_type": "display_data"
    }
   ],
   "source": [
    "image_testing = Image.open('5-1.jpeg')\n",
    "image_testing = np.array(image_testing.resize((66,66)))/255.0\n",
    "image_testing.shape\n",
    "plt.imshow(image_testing)\n",
    "plt.show()"
   ]
  },
  {
   "cell_type": "code",
   "execution_count": 38,
   "metadata": {},
   "outputs": [
    {
     "name": "stdout",
     "output_type": "stream",
     "text": [
      "(1, 66, 66, 3)\n"
     ]
    }
   ],
   "source": [
    "image_testing = np.expand_dims(image_testing,axis=0)\n",
    "print(image_testing.shape)"
   ]
  },
  {
   "cell_type": "code",
   "execution_count": 39,
   "metadata": {},
   "outputs": [
    {
     "name": "stdout",
     "output_type": "stream",
     "text": [
      "[[9.9998319e-01 9.8895825e-10 1.1036843e-06 2.6003141e-10 1.5686017e-05]]\n",
      "['5']\n"
     ]
    }
   ],
   "source": [
    "output = model.predict(image_testing,1)\n",
    "print(output)\n",
    "print(lb.classes_[output.argmax(axis=1)])"
   ]
  },
  {
   "cell_type": "code",
   "execution_count": null,
   "metadata": {},
   "outputs": [],
   "source": []
  }
 ],
 "metadata": {
  "kernelspec": {
   "display_name": "Python 3",
   "language": "python",
   "name": "python3"
  },
  "language_info": {
   "codemirror_mode": {
    "name": "ipython",
    "version": 3
   },
   "file_extension": ".py",
   "mimetype": "text/x-python",
   "name": "python",
   "nbconvert_exporter": "python",
   "pygments_lexer": "ipython3",
   "version": "3.7.3"
  }
 },
 "nbformat": 4,
 "nbformat_minor": 4
}
